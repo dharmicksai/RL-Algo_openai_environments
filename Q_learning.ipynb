{
 "cells": [
  {
   "cell_type": "markdown",
   "metadata": {},
   "source": [
    "<h2> Importing libraries"
   ]
  },
  {
   "cell_type": "code",
   "execution_count": 1,
   "metadata": {},
   "outputs": [],
   "source": [
    "import gym\n",
    "import random\n",
    "import numpy as np\n",
    "import time\n",
    "from gym.envs.registration import register\n",
    "from IPython.display import clear_output"
   ]
  },
  {
   "cell_type": "markdown",
   "metadata": {},
   "source": [
    "<h2> Creating environmrnt"
   ]
  },
  {
   "cell_type": "code",
   "execution_count": 2,
   "metadata": {},
   "outputs": [
    {
     "name": "stdout",
     "output_type": "stream",
     "text": [
      "Observation space: Discrete(16)\n",
      "Action space: Discrete(4)\n"
     ]
    },
    {
     "data": {
      "text/plain": [
       "gym.spaces.discrete.Discrete"
      ]
     },
     "execution_count": 2,
     "metadata": {},
     "output_type": "execute_result"
    }
   ],
   "source": [
    "\n",
    "env_name = \"FrozenLake-v0\"\n",
    "\n",
    "env = gym.make(env_name)\n",
    "print(\"Observation space:\", env.observation_space)\n",
    "print(\"Action space:\", env.action_space)\n",
    "type(env.action_space)"
   ]
  },
  {
   "cell_type": "markdown",
   "metadata": {},
   "source": [
    "<h2> building an random  agent"
   ]
  },
  {
   "cell_type": "code",
   "execution_count": 3,
   "metadata": {},
   "outputs": [],
   "source": [
    "class Agent():\n",
    "    def __init__(self, env):\n",
    "        self.is_discrete = \\\n",
    "            type(env.action_space) == gym.spaces.discrete.Discrete\n",
    "        \n",
    "        if self.is_discrete:\n",
    "            self.action_size = env.action_space.n\n",
    "            print(\"Action size:\", self.action_size)\n",
    "        else:\n",
    "            self.action_low = env.action_space.low\n",
    "            self.action_high = env.action_space.high\n",
    "            self.action_shape = env.action_space.shape\n",
    "            print(\"Action range:\", self.action_low, self.action_high)\n",
    "        \n",
    "    def get_action(self, state):\n",
    "        if self.is_discrete:\n",
    "            action = random.choice(range(self.action_size))\n",
    "        else:\n",
    "            action = np.random.uniform(self.action_low,\n",
    "                                       self.action_high,\n",
    "                                       self.action_shape)\n",
    "        return action"
   ]
  },
  {
   "cell_type": "markdown",
   "metadata": {},
   "source": [
    "<h2> Q learning agent"
   ]
  },
  {
   "cell_type": "code",
   "execution_count": 4,
   "metadata": {},
   "outputs": [
    {
     "name": "stdout",
     "output_type": "stream",
     "text": [
      "Action size: 4\n",
      "State size: 16\n"
     ]
    }
   ],
   "source": [
    "class QAgent(Agent):\n",
    "    def __init__(self, env, discount_rate=0.97, learning_rate=0.01):\n",
    "        super().__init__(env)\n",
    "        self.state_size = env.observation_space.n\n",
    "        print(\"State size:\", self.state_size)\n",
    "        \n",
    "        self.eps = 0.2\n",
    "        self.discount_rate = discount_rate\n",
    "        self.learning_rate = learning_rate\n",
    "        self.build_model()\n",
    "        \n",
    "    def build_model(self):\n",
    "        self.q_table = 1e-4*np.random.random([self.state_size, self.action_size])\n",
    "        \n",
    "    def get_action(self, state):\n",
    "        q_state = self.q_table[state]\n",
    "        action_greedy = np.argmax(q_state)\n",
    "        action_random = super().get_action(state)\n",
    "        return action_random if random.random() < self.eps else action_greedy\n",
    "    \n",
    "    def train(self, experience):\n",
    "        state, action, next_state, reward, done = experience\n",
    "        \n",
    "        q_next = self.q_table[next_state]\n",
    "        q_next = np.zeros([self.action_size]) if done else q_next\n",
    "        q_target = reward + self.discount_rate * np.max(q_next)\n",
    "        \n",
    "        q_update = q_target - self.q_table[state,action]\n",
    "        self.q_table[state,action] += self.learning_rate * q_update\n",
    "        \n",
    "        if done:\n",
    "            self.eps = self.eps * 0.99\n",
    "        \n",
    "agent = QAgent(env)"
   ]
  },
  {
   "cell_type": "markdown",
   "metadata": {},
   "source": [
    "<h2> Training"
   ]
  },
  {
   "cell_type": "code",
   "execution_count": 5,
   "metadata": {},
   "outputs": [
    {
     "name": "stdout",
     "output_type": "stream",
     "text": [
      "s: 15 a: 1\n",
      "Episode: 999, Total reward: 533.0, eps: 8.634249482131589e-06\n",
      "  (Down)\n",
      "SFFF\n",
      "FHFH\n",
      "FFFH\n",
      "HFF\u001b[41mG\u001b[0m\n",
      "[[ 1.29716588e-01 -3.57582058e-02 -3.27020008e-02 -3.74089421e-02]\n",
      " [-9.66040938e-02 -6.47465967e-02 -7.26048582e-02 -1.49691054e-02]\n",
      " [-6.84165507e-02 -6.72322192e-02 -6.86355749e-02 -3.67496345e-02]\n",
      " [-5.66359363e-02 -6.68483249e-02 -9.97139810e-02 -4.96240109e-02]\n",
      " [ 1.35789297e-01 -3.73858333e-02 -6.41863683e-02 -4.70066100e-02]\n",
      " [ 2.53279937e-05  6.27480482e-06  2.12196987e-05  2.35470772e-05]\n",
      " [-3.12995402e-01 -3.13018278e-01 -2.90983460e-01 -3.14670122e-01]\n",
      " [ 3.30651129e-05  4.34092068e-06  3.05187935e-05  4.32137566e-05]\n",
      " [-6.40333141e-02 -4.57590889e-02 -4.69956840e-02  1.88339518e-01]\n",
      " [-1.95283274e-02  2.71793121e-01 -8.84636180e-03 -2.67968176e-02]\n",
      " [ 2.10014148e-01 -6.77483525e-03 -1.98505938e-02 -2.96517654e-02]\n",
      " [ 2.55805545e-05  4.02374971e-06  4.17144314e-06  5.20092541e-05]\n",
      " [ 4.27320411e-05  9.79097966e-05  7.84671414e-05  1.10562599e-05]\n",
      " [-7.90259056e-03 -1.27653028e-02  4.39015979e-01 -2.31447137e-02]\n",
      " [ 3.33644240e-03  6.93566951e-01  2.05128648e-02  1.28686677e-02]\n",
      " [ 5.24083544e-05  8.63688773e-05  9.83723905e-05  5.60635156e-05]]\n"
     ]
    }
   ],
   "source": [
    "total_reward = 0\n",
    "for ep in range(1000):\n",
    "    state = env.reset()\n",
    "    done = False\n",
    "    while not done:\n",
    "        action = agent.get_action(state)\n",
    "        next_state, reward, done, info = env.step(action)\n",
    "        n_reward=reward\n",
    "        if done and reward==0:\n",
    "            reward=-1\n",
    "        agent.train((state,action,next_state,reward,done))\n",
    "        state = next_state\n",
    "        total_reward += n_reward\n",
    "        \n",
    "        print(\"s:\", state, \"a:\", action)\n",
    "        print(\"Episode: {}, Total reward: {}, eps: {}\".format(ep,total_reward,agent.eps))\n",
    "        env.render()\n",
    "        print(agent.q_table)\n",
    "        #time.sleep(0.05)\n",
    "        clear_output(wait=True)"
   ]
  },
  {
   "cell_type": "markdown",
   "metadata": {},
   "source": [
    "<h2> Testing"
   ]
  },
  {
   "cell_type": "code",
   "execution_count": 6,
   "metadata": {},
   "outputs": [
    {
     "name": "stdout",
     "output_type": "stream",
     "text": [
      "s: 15 a: 1\n",
      "Episode: 99, Total reward: 76.0, eps: 8.634249482131589e-06\n",
      "  (Down)\n",
      "SFFF\n",
      "FHFH\n",
      "FFFH\n",
      "HFF\u001b[41mG\u001b[0m\n",
      "[[ 1.29716588e-01 -3.57582058e-02 -3.27020008e-02 -3.74089421e-02]\n",
      " [-9.66040938e-02 -6.47465967e-02 -7.26048582e-02 -1.49691054e-02]\n",
      " [-6.84165507e-02 -6.72322192e-02 -6.86355749e-02 -3.67496345e-02]\n",
      " [-5.66359363e-02 -6.68483249e-02 -9.97139810e-02 -4.96240109e-02]\n",
      " [ 1.35789297e-01 -3.73858333e-02 -6.41863683e-02 -4.70066100e-02]\n",
      " [ 2.53279937e-05  6.27480482e-06  2.12196987e-05  2.35470772e-05]\n",
      " [-3.12995402e-01 -3.13018278e-01 -2.90983460e-01 -3.14670122e-01]\n",
      " [ 3.30651129e-05  4.34092068e-06  3.05187935e-05  4.32137566e-05]\n",
      " [-6.40333141e-02 -4.57590889e-02 -4.69956840e-02  1.88339518e-01]\n",
      " [-1.95283274e-02  2.71793121e-01 -8.84636180e-03 -2.67968176e-02]\n",
      " [ 2.10014148e-01 -6.77483525e-03 -1.98505938e-02 -2.96517654e-02]\n",
      " [ 2.55805545e-05  4.02374971e-06  4.17144314e-06  5.20092541e-05]\n",
      " [ 4.27320411e-05  9.79097966e-05  7.84671414e-05  1.10562599e-05]\n",
      " [-7.90259056e-03 -1.27653028e-02  4.39015979e-01 -2.31447137e-02]\n",
      " [ 3.33644240e-03  6.93566951e-01  2.05128648e-02  1.28686677e-02]\n",
      " [ 5.24083544e-05  8.63688773e-05  9.83723905e-05  5.60635156e-05]]\n"
     ]
    }
   ],
   "source": [
    "total_reward = 0\n",
    "for ep in range(100):\n",
    "    state = env.reset()\n",
    "    done = False\n",
    "    while not done:\n",
    "        action = agent.get_action(state)\n",
    "        next_state, reward, done, info = env.step(action)\n",
    "        n_reward=reward\n",
    "        if done and reward==0:\n",
    "            reward=-1\n",
    "        \n",
    "        state = next_state\n",
    "        total_reward += n_reward\n",
    "        \n",
    "        print(\"s:\", state, \"a:\", action)\n",
    "        print(\"Episode: {}, Total reward: {}, eps: {}\".format(ep,total_reward,agent.eps))\n",
    "        env.render()\n",
    "        print(agent.q_table)\n",
    "        #time.sleep(0.05)\n",
    "        clear_output(wait=True)"
   ]
  },
  {
   "cell_type": "markdown",
   "metadata": {},
   "source": [
    "<b> Agent was able to reach goals 76 times out fo 100 episodes"
   ]
  },
  {
   "cell_type": "markdown",
   "metadata": {},
   "source": [
    "<h2> Expected Sarsa Agent"
   ]
  },
  {
   "cell_type": "code",
   "execution_count": 7,
   "metadata": {},
   "outputs": [
    {
     "name": "stdout",
     "output_type": "stream",
     "text": [
      "Action size: 4\n",
      "State size: 16\n"
     ]
    }
   ],
   "source": [
    "class ExpectedSarsaAgent(Agent):\n",
    "    def __init__(self, env, discount_rate=0.97, learning_rate=0.01):\n",
    "        super().__init__(env)\n",
    "        self.state_size = env.observation_space.n\n",
    "        print(\"State size:\", self.state_size)\n",
    "        \n",
    "        self.eps = 0.2\n",
    "        self.discount_rate = discount_rate\n",
    "        self.learning_rate = learning_rate\n",
    "        self.build_model()\n",
    "        \n",
    "    def build_model(self):\n",
    "        self.q_table = 1e-4*np.random.random([self.state_size, self.action_size])\n",
    "        \n",
    "    def get_action(self, state):\n",
    "        q_state = self.q_table[state]\n",
    "        action_greedy = np.argmax(q_state)\n",
    "        action_random = super().get_action(state)\n",
    "        return action_random if random.random() < self.eps else action_greedy\n",
    "    \n",
    "    def train(self, experience):\n",
    "        state, action, next_state, reward, done = experience\n",
    "        \n",
    "        q_next = self.q_table[next_state]\n",
    "        q_next = np.zeros([self.action_size]) if done else q_next\n",
    "        v=(1-self.eps)*(np.max(q_next))\n",
    "        for i in q_next:\n",
    "            v+=(self.eps/self.action_size)*i\n",
    "        \n",
    "        q_target = reward + self.discount_rate * np.max(q_next)\n",
    "        \n",
    "        q_update = q_target - self.q_table[state,action]\n",
    "        self.q_table[state,action] += self.learning_rate * q_update\n",
    "        \n",
    "        if done:\n",
    "            self.eps = self.eps * 0.99\n",
    "        \n",
    "agent = ExpectedSarsaAgent(env)"
   ]
  },
  {
   "cell_type": "markdown",
   "metadata": {},
   "source": [
    "<h2> Training "
   ]
  },
  {
   "cell_type": "code",
   "execution_count": 8,
   "metadata": {},
   "outputs": [
    {
     "name": "stdout",
     "output_type": "stream",
     "text": [
      "s: 15 a: 1\n",
      "Episode: 999, Total reward: 587.0, eps: 8.634249482131589e-06\n",
      "  (Down)\n",
      "SFFF\n",
      "FHFH\n",
      "FFFH\n",
      "HFF\u001b[41mG\u001b[0m\n",
      "[[ 1.32695927e-01 -2.03150045e-02 -1.55859060e-02 -1.63974537e-02]\n",
      " [-3.72871850e-02 -5.40350936e-02 -6.24397280e-02  2.71054489e-02]\n",
      " [-5.21441560e-02 -5.29885455e-02 -5.11358993e-02 -1.79280830e-02]\n",
      " [-6.60447547e-02 -5.29926140e-02 -7.26149360e-02 -3.00274775e-02]\n",
      " [ 1.62462718e-01 -4.48589111e-02 -6.90975697e-02 -7.17801844e-02]\n",
      " [ 9.65877386e-05  3.57359102e-05  2.45836377e-05  7.97399903e-05]\n",
      " [-2.23013517e-01 -2.88474533e-01 -2.87163024e-01 -2.90268818e-01]\n",
      " [ 6.22180922e-05  1.72274200e-05  6.78906425e-05  7.09931549e-05]\n",
      " [-4.63658316e-02 -6.04843379e-02 -3.62197664e-02  2.07282148e-01]\n",
      " [-1.92937094e-02  2.80491802e-01 -2.81912300e-02 -8.10686860e-03]\n",
      " [ 2.19717206e-01 -9.35047581e-03 -5.27047120e-03 -1.26025570e-02]\n",
      " [ 6.64761844e-05  4.06409447e-05  6.53574388e-05  6.18604135e-05]\n",
      " [ 3.88934323e-05  3.76186428e-05  9.61839988e-05  5.59937719e-05]\n",
      " [-2.89947109e-02 -1.66100746e-02  4.70976550e-01 -3.21070639e-02]\n",
      " [ 3.25960084e-03  7.05329921e-01  4.21000901e-04  2.00183635e-02]\n",
      " [ 3.90161005e-05  3.13823458e-05  2.40293343e-05  9.82438432e-05]]\n"
     ]
    }
   ],
   "source": [
    "total_reward = 0\n",
    "for ep in range(1000):\n",
    "    state = env.reset()\n",
    "    done = False\n",
    "    while not done:\n",
    "        action = agent.get_action(state)\n",
    "        next_state, reward, done, info = env.step(action)\n",
    "        n_reward=reward\n",
    "        if done and reward==0:\n",
    "            reward=-1\n",
    "        agent.train((state,action,next_state,reward,done))\n",
    "        state = next_state\n",
    "        total_reward += n_reward\n",
    "        \n",
    "        print(\"s:\", state, \"a:\", action)\n",
    "        print(\"Episode: {}, Total reward: {}, eps: {}\".format(ep,total_reward,agent.eps))\n",
    "        env.render()\n",
    "        print(agent.q_table)\n",
    "       \n",
    "        clear_output(wait=True)"
   ]
  },
  {
   "cell_type": "markdown",
   "metadata": {},
   "source": [
    "<h2> Testing"
   ]
  },
  {
   "cell_type": "code",
   "execution_count": 9,
   "metadata": {},
   "outputs": [
    {
     "name": "stdout",
     "output_type": "stream",
     "text": [
      "s: 15 a: 1\n",
      "Episode: 99, Total reward: 87.0, eps: 8.634249482131589e-06\n",
      "  (Down)\n",
      "SFFF\n",
      "FHFH\n",
      "FFFH\n",
      "HFF\u001b[41mG\u001b[0m\n",
      "[[ 1.32695927e-01 -2.03150045e-02 -1.55859060e-02 -1.63974537e-02]\n",
      " [-3.72871850e-02 -5.40350936e-02 -6.24397280e-02  2.71054489e-02]\n",
      " [-5.21441560e-02 -5.29885455e-02 -5.11358993e-02 -1.79280830e-02]\n",
      " [-6.60447547e-02 -5.29926140e-02 -7.26149360e-02 -3.00274775e-02]\n",
      " [ 1.62462718e-01 -4.48589111e-02 -6.90975697e-02 -7.17801844e-02]\n",
      " [ 9.65877386e-05  3.57359102e-05  2.45836377e-05  7.97399903e-05]\n",
      " [-2.23013517e-01 -2.88474533e-01 -2.87163024e-01 -2.90268818e-01]\n",
      " [ 6.22180922e-05  1.72274200e-05  6.78906425e-05  7.09931549e-05]\n",
      " [-4.63658316e-02 -6.04843379e-02 -3.62197664e-02  2.07282148e-01]\n",
      " [-1.92937094e-02  2.80491802e-01 -2.81912300e-02 -8.10686860e-03]\n",
      " [ 2.19717206e-01 -9.35047581e-03 -5.27047120e-03 -1.26025570e-02]\n",
      " [ 6.64761844e-05  4.06409447e-05  6.53574388e-05  6.18604135e-05]\n",
      " [ 3.88934323e-05  3.76186428e-05  9.61839988e-05  5.59937719e-05]\n",
      " [-2.89947109e-02 -1.66100746e-02  4.70976550e-01 -3.21070639e-02]\n",
      " [ 3.25960084e-03  7.05329921e-01  4.21000901e-04  2.00183635e-02]\n",
      " [ 3.90161005e-05  3.13823458e-05  2.40293343e-05  9.82438432e-05]]\n"
     ]
    }
   ],
   "source": [
    "total_reward = 0\n",
    "for ep in range(100):\n",
    "    state = env.reset()\n",
    "    done = False\n",
    "    while not done:\n",
    "        action = agent.get_action(state)\n",
    "        next_state, reward, done, info = env.step(action)\n",
    "        n_reward=reward\n",
    "        if done and reward==0:\n",
    "            reward=-1\n",
    "        \n",
    "        state = next_state\n",
    "        total_reward += n_reward\n",
    "        \n",
    "        print(\"s:\", state, \"a:\", action)\n",
    "        print(\"Episode: {}, Total reward: {}, eps: {}\".format(ep,total_reward,agent.eps))\n",
    "        env.render()\n",
    "        print(agent.q_table)\n",
    "       \n",
    "        clear_output(wait=True)"
   ]
  },
  {
   "cell_type": "markdown",
   "metadata": {},
   "source": [
    "<b> Agent was able to reach goals 87 times out fo 100 episodes"
   ]
  }
 ],
 "metadata": {
  "kernelspec": {
   "display_name": "tf_gpu",
   "language": "python",
   "name": "tf_gpu"
  },
  "language_info": {
   "codemirror_mode": {
    "name": "ipython",
    "version": 3
   },
   "file_extension": ".py",
   "mimetype": "text/x-python",
   "name": "python",
   "nbconvert_exporter": "python",
   "pygments_lexer": "ipython3",
   "version": "3.7.9"
  }
 },
 "nbformat": 4,
 "nbformat_minor": 4
}
